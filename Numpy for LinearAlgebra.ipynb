{
 "cells": [
  {
   "cell_type": "code",
   "execution_count": 1,
   "metadata": {},
   "outputs": [],
   "source": [
    "import numpy as np"
   ]
  },
  {
   "cell_type": "markdown",
   "metadata": {},
   "source": [
    "第一章 线性方程组与矩阵"
   ]
  },
  {
   "cell_type": "markdown",
   "metadata": {},
   "source": [
    "第一章 第一节 矩阵的概念及运算"
   ]
  },
  {
   "cell_type": "markdown",
   "metadata": {},
   "source": [
    "第一章 第一节 一、矩阵的定义"
   ]
  },
  {
   "cell_type": "code",
   "execution_count": 2,
   "metadata": {},
   "outputs": [
    {
     "data": {
      "text/plain": [
       "((3, 3), dtype('int32'), 2, (12, 4), <memory at 0x000002814D1145F0>)"
      ]
     },
     "execution_count": 2,
     "metadata": {},
     "output_type": "execute_result"
    }
   ],
   "source": [
    "# ndarray.dtype：存储了数组保存的元素的类型。float32\n",
    "# ndarray.ndim：它是一个整数，保存了数组的维度，即多少个轴\n",
    "# ndarray.shape：它是一个整数的元组，每个元素一一对应地保存了数组某个维度的大小（即某个轴的长度）。\n",
    "# ndarray.strides：它是一个整数的元组，每个元素保存着每个轴上相邻两个元素的地址差。即当某个轴的下标增加1 时，数据存储区中的指针增加的字节数\n",
    "# ndarray.data：它指向数组的数据的存储区\n",
    "array1 = np.array([[1,2,3],[4,5,6],[7,8,9]])\n",
    "array1.shape, array1.dtype, array1.ndim, array1.strides, array1.data"
   ]
  },
  {
   "cell_type": "markdown",
   "metadata": {},
   "source": [
    "第一章 第一节 二、矩阵的线性运算"
   ]
  },
  {
   "cell_type": "code",
   "execution_count": 3,
   "metadata": {},
   "outputs": [
    {
     "data": {
      "text/plain": [
       "array([[ 2,  4,  6],\n",
       "       [ 8, 10, 12],\n",
       "       [14, 16, 18]])"
      ]
     },
     "execution_count": 3,
     "metadata": {},
     "output_type": "execute_result"
    }
   ],
   "source": [
    "#加法\n",
    "array2 = array1\n",
    "array3 = array1 + array2\n",
    "array3"
   ]
  },
  {
   "cell_type": "code",
   "execution_count": 4,
   "metadata": {},
   "outputs": [
    {
     "data": {
      "text/plain": [
       "array([[ 3,  6,  9],\n",
       "       [12, 15, 18],\n",
       "       [21, 24, 27]])"
      ]
     },
     "execution_count": 4,
     "metadata": {},
     "output_type": "execute_result"
    }
   ],
   "source": [
    "#数乘\n",
    "array4 = 3 * array1\n",
    "array4"
   ]
  },
  {
   "cell_type": "markdown",
   "metadata": {},
   "source": [
    "第一章 第一节 三、矩阵的乘法"
   ]
  },
  {
   "cell_type": "code",
   "execution_count": 5,
   "metadata": {},
   "outputs": [
    {
     "data": {
      "text/plain": [
       "(array([[ 30,  36,  42],\n",
       "        [ 66,  81,  96],\n",
       "        [102, 126, 150]]),\n",
       " array([[ 30,  36,  42],\n",
       "        [ 66,  81,  96],\n",
       "        [102, 126, 150]]))"
      ]
     },
     "execution_count": 5,
     "metadata": {},
     "output_type": "execute_result"
    }
   ],
   "source": [
    "#实践发现dot和matmul都是矩阵相乘\n",
    "array5 = np.dot(array1,array2)\n",
    "array5m = np.matmul(array1,array2)\n",
    "array5,array5m"
   ]
  },
  {
   "cell_type": "markdown",
   "metadata": {},
   "source": [
    "第一章 第一节 四、矩阵的转置"
   ]
  },
  {
   "cell_type": "code",
   "execution_count": 6,
   "metadata": {},
   "outputs": [
    {
     "data": {
      "text/plain": [
       "array([[1, 4, 7],\n",
       "       [2, 5, 8],\n",
       "       [3, 6, 9]])"
      ]
     },
     "execution_count": 6,
     "metadata": {},
     "output_type": "execute_result"
    }
   ],
   "source": [
    "array6 = array1.T\n",
    "array6"
   ]
  },
  {
   "cell_type": "markdown",
   "metadata": {},
   "source": [
    "第一章 第二节 分块矩阵"
   ]
  },
  {
   "cell_type": "markdown",
   "metadata": {},
   "source": [
    "第一章 第三节 线性方程组与矩阵的初等变换"
   ]
  },
  {
   "cell_type": "markdown",
   "metadata": {},
   "source": [
    "第一章 第四节 初等矩阵与矩阵的逆矩阵"
   ]
  },
  {
   "cell_type": "code",
   "execution_count": 7,
   "metadata": {},
   "outputs": [
    {
     "data": {
      "text/plain": [
       "array([[ 3.15251974e+15, -6.30503948e+15,  3.15251974e+15],\n",
       "       [-6.30503948e+15,  1.26100790e+16, -6.30503948e+15],\n",
       "       [ 3.15251974e+15, -6.30503948e+15,  3.15251974e+15]])"
      ]
     },
     "execution_count": 7,
     "metadata": {},
     "output_type": "execute_result"
    }
   ],
   "source": [
    "array1Inv = np.linalg.inv(array1)\n",
    "array1Inv"
   ]
  },
  {
   "cell_type": "markdown",
   "metadata": {},
   "source": [
    "第二章 方阵的行列式"
   ]
  },
  {
   "cell_type": "markdown",
   "metadata": {},
   "source": [
    "第二章 第一节 行列式的定义"
   ]
  },
  {
   "cell_type": "markdown",
   "metadata": {},
   "source": [
    "第二章 第一节 一、排列"
   ]
  },
  {
   "cell_type": "markdown",
   "metadata": {},
   "source": [
    "第二章 第一节 二、n阶行列式"
   ]
  },
  {
   "cell_type": "markdown",
   "metadata": {},
   "source": [
    "第二章 第一节 三、几类特殊的n阶行列式的值"
   ]
  },
  {
   "cell_type": "markdown",
   "metadata": {},
   "source": [
    "第二章 第二节 行列式的性质"
   ]
  },
  {
   "cell_type": "markdown",
   "metadata": {},
   "source": [
    "第二章 第二节 一、行列式的性质"
   ]
  },
  {
   "cell_type": "markdown",
   "metadata": {},
   "source": [
    "第二章 第二节 二、行列式的计算举例"
   ]
  },
  {
   "cell_type": "code",
   "execution_count": 8,
   "metadata": {},
   "outputs": [
    {
     "data": {
      "text/plain": [
       "-9.51619735392994e-16"
      ]
     },
     "execution_count": 8,
     "metadata": {},
     "output_type": "execute_result"
    }
   ],
   "source": [
    "#行列式的计算\n",
    "array1Det = np.linalg.det(array1)\n",
    "array1Det"
   ]
  },
  {
   "cell_type": "markdown",
   "metadata": {},
   "source": [
    "第二章 第二节 三、方阵可逆的充要条件"
   ]
  },
  {
   "cell_type": "markdown",
   "metadata": {},
   "source": [
    "第二章 第三节 行列式按行（列）展开"
   ]
  },
  {
   "cell_type": "markdown",
   "metadata": {},
   "source": [
    "第二章 第三节 一、余子式与代数余子式"
   ]
  },
  {
   "cell_type": "markdown",
   "metadata": {},
   "source": [
    "第二章 第三节 二、行列式按行（列）展开"
   ]
  },
  {
   "cell_type": "markdown",
   "metadata": {},
   "source": [
    "第二章 第四节 矩阵求逆公式与克莱姆法则"
   ]
  },
  {
   "cell_type": "markdown",
   "metadata": {},
   "source": [
    "第二章 第四节 一、伴随矩阵与矩阵的求逆公式"
   ]
  },
  {
   "cell_type": "markdown",
   "metadata": {},
   "source": [
    "第二章 第四节 二、克莱姆法则"
   ]
  },
  {
   "cell_type": "markdown",
   "metadata": {},
   "source": [
    "第三章 向量空间与线性方程组解的结构"
   ]
  },
  {
   "cell_type": "markdown",
   "metadata": {},
   "source": [
    "第三章 第一节 向量组及其线性组合"
   ]
  },
  {
   "cell_type": "markdown",
   "metadata": {},
   "source": [
    "第三章 第一节 一、向量的概念及运算"
   ]
  },
  {
   "cell_type": "code",
   "execution_count": 9,
   "metadata": {},
   "outputs": [],
   "source": [
    "row_vector = np.array([1,2,3])\n",
    "col_vector = np.array([[4],\n",
    "                       [5],\n",
    "                       [6]])\n",
    "#向量可以看成行矩阵或列矩阵"
   ]
  },
  {
   "cell_type": "markdown",
   "metadata": {},
   "source": [
    "第三章 第一节 二、向量组及其线性组合"
   ]
  },
  {
   "cell_type": "code",
   "execution_count": 10,
   "metadata": {},
   "outputs": [],
   "source": [
    "row_vector1 = np.array([1,2,3])\n",
    "row_vector2 = np.array([1,2,3])\n",
    "row_vector3 = np.array([1,2,3])\n",
    "# row_vector1,row_vector2,row_vector3称为一个向量组"
   ]
  },
  {
   "cell_type": "markdown",
   "metadata": {},
   "source": [
    "第三章 第一节 三、向量组的等价"
   ]
  },
  {
   "cell_type": "markdown",
   "metadata": {},
   "source": [
    "第三章 第二节 向量组的线性相关性"
   ]
  },
  {
   "cell_type": "markdown",
   "metadata": {},
   "source": [
    "第三章 第二节 一、向量组的线性相关与线性无关"
   ]
  },
  {
   "cell_type": "markdown",
   "metadata": {},
   "source": [
    "第三章 第二节 二、向量组线性相关性的一些重要结论"
   ]
  },
  {
   "cell_type": "markdown",
   "metadata": {},
   "source": [
    "第三章 第三节 向量组的秩与矩阵的秩"
   ]
  },
  {
   "cell_type": "markdown",
   "metadata": {},
   "source": [
    "第三章 第三节 一、向量组秩的概念"
   ]
  },
  {
   "cell_type": "code",
   "execution_count": 11,
   "metadata": {},
   "outputs": [],
   "source": [
    "#向量组A的任意一个极大无关组所含向量的个数，称为这个向量组的秩，记为RA（A是下角标）"
   ]
  },
  {
   "cell_type": "markdown",
   "metadata": {},
   "source": [
    "第三章 第三节 二、矩阵秩的概念"
   ]
  },
  {
   "cell_type": "markdown",
   "metadata": {},
   "source": [
    "第三章 第三节 三、矩阵秩的求法"
   ]
  },
  {
   "cell_type": "code",
   "execution_count": 12,
   "metadata": {},
   "outputs": [
    {
     "data": {
      "text/plain": [
       "2"
      ]
     },
     "execution_count": 12,
     "metadata": {},
     "output_type": "execute_result"
    }
   ],
   "source": [
    "Rarray1 = np.linalg.matrix_rank(array1)\n",
    "Rarray1"
   ]
  },
  {
   "cell_type": "code",
   "execution_count": 13,
   "metadata": {},
   "outputs": [
    {
     "data": {
      "text/plain": [
       "array([[1, 2, 3],\n",
       "       [4, 5, 6],\n",
       "       [7, 8, 9]])"
      ]
     },
     "execution_count": 13,
     "metadata": {},
     "output_type": "execute_result"
    }
   ],
   "source": [
    "array1"
   ]
  },
  {
   "cell_type": "markdown",
   "metadata": {},
   "source": [
    "第三章 第三节 四、向量组的秩与矩阵的秩的关系"
   ]
  },
  {
   "cell_type": "code",
   "execution_count": 14,
   "metadata": {},
   "outputs": [],
   "source": [
    "#矩阵的行向量组的秩与它的列向量组的秩相等，都等于矩阵的秩"
   ]
  },
  {
   "cell_type": "markdown",
   "metadata": {},
   "source": [
    "第三章 第四节 线性方程组解的结构"
   ]
  },
  {
   "cell_type": "markdown",
   "metadata": {},
   "source": [
    "第三章 第四节 一、线性方程组有解的判定定理"
   ]
  },
  {
   "cell_type": "markdown",
   "metadata": {},
   "source": [
    "第三章 第四节 二、齐次线性方程组解的结构"
   ]
  },
  {
   "cell_type": "markdown",
   "metadata": {},
   "source": [
    "第三章 第四节 三、非齐次线性方程组解的结构"
   ]
  },
  {
   "cell_type": "code",
   "execution_count": 15,
   "metadata": {},
   "outputs": [
    {
     "data": {
      "text/plain": [
       "array([2., 3.])"
      ]
     },
     "execution_count": 15,
     "metadata": {},
     "output_type": "execute_result"
    }
   ],
   "source": [
    "#设有以下方程组\n",
    "#2x + 3y = 13\n",
    "#4x + y = 11\n",
    "#定义系数矩阵A\n",
    "A = np.array([[2,3],\n",
    "              [4,1]])\n",
    "#定义右侧向量b\n",
    "b = np.array([13,11])\n",
    "#使用numpy.linalg.solve()解线性方程组\n",
    "result = np.linalg.solve(A,b)\n",
    "result"
   ]
  },
  {
   "cell_type": "markdown",
   "metadata": {},
   "source": [
    "第三章 第五节 一、向量空间及其子空间"
   ]
  },
  {
   "cell_type": "markdown",
   "metadata": {},
   "source": [
    "第三章 第五节 二、向量空间的基、维数与坐标"
   ]
  },
  {
   "cell_type": "markdown",
   "metadata": {},
   "source": [
    "第三章 第五节 三、基变换与坐标变换"
   ]
  },
  {
   "cell_type": "markdown",
   "metadata": {},
   "source": [
    "第四章 相似矩阵及二次型"
   ]
  },
  {
   "cell_type": "markdown",
   "metadata": {},
   "source": [
    "第四章 第一节 向量的内积、长度及正交性"
   ]
  },
  {
   "cell_type": "markdown",
   "metadata": {},
   "source": [
    "第四章 第一节 一、向量的内积、长度"
   ]
  },
  {
   "cell_type": "code",
   "execution_count": 18,
   "metadata": {},
   "outputs": [
    {
     "data": {
      "text/plain": [
       "32"
      ]
     },
     "execution_count": 18,
     "metadata": {},
     "output_type": "execute_result"
    }
   ],
   "source": [
    "# 求向量的内积\n",
    "vector1 = np.array([1,2,3])\n",
    "vector2 = np.array([4,5,6])\n",
    "inner_product = np.dot(vector1,vector2)\n",
    "inner_product"
   ]
  },
  {
   "cell_type": "code",
   "execution_count": 21,
   "metadata": {},
   "outputs": [
    {
     "data": {
      "text/plain": [
       "3.7416573867739413"
      ]
     },
     "execution_count": 21,
     "metadata": {},
     "output_type": "execute_result"
    }
   ],
   "source": [
    "# 求向量的长度\n",
    "length = np.linalg.linalg.norm(vector1)\n",
    "length"
   ]
  },
  {
   "cell_type": "markdown",
   "metadata": {},
   "source": [
    "第四章 第一节 二、正交向量组"
   ]
  },
  {
   "cell_type": "markdown",
   "metadata": {},
   "source": [
    "第四章 第一节 三、施密特正交化过程"
   ]
  },
  {
   "cell_type": "markdown",
   "metadata": {},
   "source": [
    "第四章 第一节 四、正交矩阵"
   ]
  },
  {
   "cell_type": "markdown",
   "metadata": {},
   "source": [
    "第四章 第二节 方阵的特征值与特征向量"
   ]
  },
  {
   "cell_type": "markdown",
   "metadata": {},
   "source": [
    "第四章 第二节 一、方阵的特征值与特征向量的概念及其求法"
   ]
  },
  {
   "cell_type": "code",
   "execution_count": 34,
   "metadata": {},
   "outputs": [
    {
     "data": {
      "text/plain": [
       "(array([-1., -1.,  3.]),\n",
       " array([[ 0.00000000e+00,  1.11022302e-16,  4.08248290e-01],\n",
       "        [ 0.00000000e+00,  0.00000000e+00,  8.16496581e-01],\n",
       "        [ 1.00000000e+00, -1.00000000e+00,  4.08248290e-01]]))"
      ]
     },
     "execution_count": 34,
     "metadata": {},
     "output_type": "execute_result"
    }
   ],
   "source": [
    "matrix = np.array([[-1,2,0],[0,3,0],[2,1,-1]])\n",
    "eigenvalues,eigenvectors = np.linalg.eig(matrix)\n",
    "#求特征值和特征向量\n",
    "eigenvalues,eigenvectors"
   ]
  },
  {
   "cell_type": "markdown",
   "metadata": {},
   "source": [
    "第四章 第二节 方阵的特征值与特征向量的性质"
   ]
  },
  {
   "cell_type": "markdown",
   "metadata": {},
   "source": [
    "第四章 第三节 相似矩阵"
   ]
  },
  {
   "cell_type": "markdown",
   "metadata": {},
   "source": [
    "第四章 第三节 一、方阵相似的定义和性质"
   ]
  },
  {
   "cell_type": "markdown",
   "metadata": {},
   "source": [
    "第四章 第三节 二、方阵的相似对角化"
   ]
  },
  {
   "cell_type": "markdown",
   "metadata": {},
   "source": [
    "第四章 第四节 实对称矩阵的相似对角化"
   ]
  },
  {
   "cell_type": "markdown",
   "metadata": {},
   "source": [
    "第四章 第四节 一、实对称矩阵的特征值与特征向量的性质"
   ]
  },
  {
   "cell_type": "markdown",
   "metadata": {},
   "source": [
    "第四章 第四节 二、实对称矩阵的相似对角化"
   ]
  },
  {
   "cell_type": "markdown",
   "metadata": {},
   "source": []
  },
  {
   "cell_type": "markdown",
   "metadata": {},
   "source": []
  }
 ],
 "metadata": {
  "kernelspec": {
   "display_name": "Python 3",
   "language": "python",
   "name": "python3"
  },
  "language_info": {
   "codemirror_mode": {
    "name": "ipython",
    "version": 3
   },
   "file_extension": ".py",
   "mimetype": "text/x-python",
   "name": "python",
   "nbconvert_exporter": "python",
   "pygments_lexer": "ipython3",
   "version": "3.8.5"
  }
 },
 "nbformat": 4,
 "nbformat_minor": 4
}
